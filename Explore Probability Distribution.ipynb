{
 "cells": [
  {
   "cell_type": "markdown",
   "id": "a05820bf",
   "metadata": {},
   "source": [
    "# Exemplar: Explore probability distributions"
   ]
  },
  {
   "cell_type": "markdown",
   "id": "fbb36e64",
   "metadata": {},
   "source": [
    "## **Introduction**\n",
    "\n",
    "The ability to `determine which type of probability distribution best fits data, calculate z-score, and detect outliers` are essential skills in data work. These capabilities enable data professionals to understand how their data is distributed and identify data points that need further examination.\n",
    "\n",
    "In this activity, you are a member of an analytics team for the United States Environmental Protection Agency (EPA). The data includes information about more than 200 sites, identified by state, county, city, and local site names. One of your main goals is to determine which regions need support to make air quality improvements. Given that carbon monoxide is a major air pollutant, you will investigate data from the Air Quality Index (AQI) with respect to carbon monoxide."
   ]
  },
  {
   "cell_type": "markdown",
   "id": "3d157ab8",
   "metadata": {},
   "source": [
    "## **Step 1: Imports** "
   ]
  },
  {
   "cell_type": "markdown",
   "id": "d17d9f50",
   "metadata": {},
   "source": [
    "Import relevant libraries, packages, and modules. For this lab, you will need `numpy`, `pandas`, `matplotlib.pyplot`, `statsmodels.api`, and `scipy`."
   ]
  },
  {
   "cell_type": "code",
   "execution_count": 1,
   "id": "a150d956",
   "metadata": {},
   "outputs": [],
   "source": [
    "# Import relevant libraries, packages, and modules.\n",
    "\n",
    "### YOUR CODE HERE ###\n",
    "\n",
    "import numpy as np\n",
    "import pandas as pd\n",
    "import matplotlib.pyplot as plt\n",
    "import statsmodels.api as sm\n",
    "from scipy import stats"
   ]
  },
  {
   "cell_type": "markdown",
   "id": "a83f77af",
   "metadata": {},
   "source": [
    "A subset of data was taken from the air quality data collected by the EPA, then transformed to suit the purposes of this lab. This subset is a .csv file named `modified_c4_epa_air_quality.csv`. Load into a DataFrame."
   ]
  },
  {
   "cell_type": "code",
   "execution_count": 30,
   "id": "e02c8630",
   "metadata": {},
   "outputs": [],
   "source": [
    "# Load data into a DataFrame and save in a variable.\n",
    "\n",
    "### YOUR CODE HERE ###\n",
    "\n",
    "data1 = pd.read_csv(\"epa_air.csv\")"
   ]
  },
  {
   "cell_type": "code",
   "execution_count": 31,
   "id": "5ab05086",
   "metadata": {},
   "outputs": [],
   "source": [
    "data1 = data1.dropna()"
   ]
  },
  {
   "cell_type": "code",
   "execution_count": 32,
   "id": "fef68bff",
   "metadata": {},
   "outputs": [
    {
     "data": {
      "text/html": [
       "<div>\n",
       "<style scoped>\n",
       "    .dataframe tbody tr th:only-of-type {\n",
       "        vertical-align: middle;\n",
       "    }\n",
       "\n",
       "    .dataframe tbody tr th {\n",
       "        vertical-align: top;\n",
       "    }\n",
       "\n",
       "    .dataframe thead th {\n",
       "        text-align: right;\n",
       "    }\n",
       "</style>\n",
       "<table border=\"1\" class=\"dataframe\">\n",
       "  <thead>\n",
       "    <tr style=\"text-align: right;\">\n",
       "      <th></th>\n",
       "      <th>date_local</th>\n",
       "      <th>state_name</th>\n",
       "      <th>county_name</th>\n",
       "      <th>city_name</th>\n",
       "      <th>local_site_name</th>\n",
       "      <th>parameter_name</th>\n",
       "      <th>units_of_measure</th>\n",
       "      <th>aqi_log</th>\n",
       "    </tr>\n",
       "  </thead>\n",
       "  <tbody>\n",
       "    <tr>\n",
       "      <th>0</th>\n",
       "      <td>2018-01-01</td>\n",
       "      <td>Arizona</td>\n",
       "      <td>Maricopa</td>\n",
       "      <td>Buckeye</td>\n",
       "      <td>BUCKEYE</td>\n",
       "      <td>Carbon monoxide</td>\n",
       "      <td>Parts per million</td>\n",
       "      <td>2.079442</td>\n",
       "    </tr>\n",
       "    <tr>\n",
       "      <th>1</th>\n",
       "      <td>2018-01-01</td>\n",
       "      <td>Ohio</td>\n",
       "      <td>Belmont</td>\n",
       "      <td>Shadyside</td>\n",
       "      <td>Shadyside</td>\n",
       "      <td>Carbon monoxide</td>\n",
       "      <td>Parts per million</td>\n",
       "      <td>1.791759</td>\n",
       "    </tr>\n",
       "    <tr>\n",
       "      <th>2</th>\n",
       "      <td>2018-01-01</td>\n",
       "      <td>Wyoming</td>\n",
       "      <td>Teton</td>\n",
       "      <td>Not in a city</td>\n",
       "      <td>Yellowstone National Park - Old Faithful Snow ...</td>\n",
       "      <td>Carbon monoxide</td>\n",
       "      <td>Parts per million</td>\n",
       "      <td>1.098612</td>\n",
       "    </tr>\n",
       "    <tr>\n",
       "      <th>3</th>\n",
       "      <td>2018-01-01</td>\n",
       "      <td>Pennsylvania</td>\n",
       "      <td>Philadelphia</td>\n",
       "      <td>Philadelphia</td>\n",
       "      <td>North East Waste (NEW)</td>\n",
       "      <td>Carbon monoxide</td>\n",
       "      <td>Parts per million</td>\n",
       "      <td>1.386294</td>\n",
       "    </tr>\n",
       "    <tr>\n",
       "      <th>4</th>\n",
       "      <td>2018-01-01</td>\n",
       "      <td>Iowa</td>\n",
       "      <td>Polk</td>\n",
       "      <td>Des Moines</td>\n",
       "      <td>CARPENTER</td>\n",
       "      <td>Carbon monoxide</td>\n",
       "      <td>Parts per million</td>\n",
       "      <td>1.386294</td>\n",
       "    </tr>\n",
       "    <tr>\n",
       "      <th>...</th>\n",
       "      <td>...</td>\n",
       "      <td>...</td>\n",
       "      <td>...</td>\n",
       "      <td>...</td>\n",
       "      <td>...</td>\n",
       "      <td>...</td>\n",
       "      <td>...</td>\n",
       "      <td>...</td>\n",
       "    </tr>\n",
       "    <tr>\n",
       "      <th>254</th>\n",
       "      <td>2018-01-01</td>\n",
       "      <td>Arizona</td>\n",
       "      <td>Pima</td>\n",
       "      <td>Tucson</td>\n",
       "      <td>CHERRY &amp; GLENN</td>\n",
       "      <td>Carbon monoxide</td>\n",
       "      <td>Parts per million</td>\n",
       "      <td>2.708050</td>\n",
       "    </tr>\n",
       "    <tr>\n",
       "      <th>255</th>\n",
       "      <td>2018-01-01</td>\n",
       "      <td>District Of Columbia</td>\n",
       "      <td>District of Columbia</td>\n",
       "      <td>Washington</td>\n",
       "      <td>Near Road</td>\n",
       "      <td>Carbon monoxide</td>\n",
       "      <td>Parts per million</td>\n",
       "      <td>1.386294</td>\n",
       "    </tr>\n",
       "    <tr>\n",
       "      <th>256</th>\n",
       "      <td>2018-01-01</td>\n",
       "      <td>Wisconsin</td>\n",
       "      <td>Dodge</td>\n",
       "      <td>Kekoskee</td>\n",
       "      <td>HORICON WILDLIFE AREA</td>\n",
       "      <td>Carbon monoxide</td>\n",
       "      <td>Parts per million</td>\n",
       "      <td>1.098612</td>\n",
       "    </tr>\n",
       "    <tr>\n",
       "      <th>257</th>\n",
       "      <td>2018-01-01</td>\n",
       "      <td>Kentucky</td>\n",
       "      <td>Jefferson</td>\n",
       "      <td>Louisville</td>\n",
       "      <td>CANNONS LANE</td>\n",
       "      <td>Carbon monoxide</td>\n",
       "      <td>Parts per million</td>\n",
       "      <td>1.098612</td>\n",
       "    </tr>\n",
       "    <tr>\n",
       "      <th>259</th>\n",
       "      <td>2018-01-01</td>\n",
       "      <td>North Carolina</td>\n",
       "      <td>Wake</td>\n",
       "      <td>Not in a city</td>\n",
       "      <td>Triple Oak</td>\n",
       "      <td>Carbon monoxide</td>\n",
       "      <td>Parts per million</td>\n",
       "      <td>1.098612</td>\n",
       "    </tr>\n",
       "  </tbody>\n",
       "</table>\n",
       "<p>255 rows × 8 columns</p>\n",
       "</div>"
      ],
      "text/plain": [
       "     date_local            state_name           county_name      city_name  \\\n",
       "0    2018-01-01               Arizona              Maricopa        Buckeye   \n",
       "1    2018-01-01                  Ohio               Belmont      Shadyside   \n",
       "2    2018-01-01               Wyoming                 Teton  Not in a city   \n",
       "3    2018-01-01          Pennsylvania          Philadelphia   Philadelphia   \n",
       "4    2018-01-01                  Iowa                  Polk     Des Moines   \n",
       "..          ...                   ...                   ...            ...   \n",
       "254  2018-01-01               Arizona                  Pima         Tucson   \n",
       "255  2018-01-01  District Of Columbia  District of Columbia     Washington   \n",
       "256  2018-01-01             Wisconsin                 Dodge       Kekoskee   \n",
       "257  2018-01-01              Kentucky             Jefferson     Louisville   \n",
       "259  2018-01-01        North Carolina                  Wake  Not in a city   \n",
       "\n",
       "                                       local_site_name   parameter_name  \\\n",
       "0                                              BUCKEYE  Carbon monoxide   \n",
       "1                                            Shadyside  Carbon monoxide   \n",
       "2    Yellowstone National Park - Old Faithful Snow ...  Carbon monoxide   \n",
       "3                               North East Waste (NEW)  Carbon monoxide   \n",
       "4                                            CARPENTER  Carbon monoxide   \n",
       "..                                                 ...              ...   \n",
       "254                                     CHERRY & GLENN  Carbon monoxide   \n",
       "255                                          Near Road  Carbon monoxide   \n",
       "256                              HORICON WILDLIFE AREA  Carbon monoxide   \n",
       "257                                       CANNONS LANE  Carbon monoxide   \n",
       "259                                         Triple Oak  Carbon monoxide   \n",
       "\n",
       "      units_of_measure   aqi_log  \n",
       "0    Parts per million  2.079442  \n",
       "1    Parts per million  1.791759  \n",
       "2    Parts per million  1.098612  \n",
       "3    Parts per million  1.386294  \n",
       "4    Parts per million  1.386294  \n",
       "..                 ...       ...  \n",
       "254  Parts per million  2.708050  \n",
       "255  Parts per million  1.386294  \n",
       "256  Parts per million  1.098612  \n",
       "257  Parts per million  1.098612  \n",
       "259  Parts per million  1.098612  \n",
       "\n",
       "[255 rows x 8 columns]"
      ]
     },
     "execution_count": 32,
     "metadata": {},
     "output_type": "execute_result"
    }
   ],
   "source": [
    "data1"
   ]
  },
  {
   "cell_type": "markdown",
   "id": "8bff8970",
   "metadata": {},
   "source": [
    "## **Step 2: Data exploration** "
   ]
  },
  {
   "cell_type": "markdown",
   "id": "05b0b565",
   "metadata": {},
   "source": [
    "Display the first 10 rows of the data to get a sense of how the data is structured."
   ]
  },
  {
   "cell_type": "code",
   "execution_count": 3,
   "id": "3a4a4468",
   "metadata": {},
   "outputs": [
    {
     "data": {
      "text/html": [
       "<div>\n",
       "<style scoped>\n",
       "    .dataframe tbody tr th:only-of-type {\n",
       "        vertical-align: middle;\n",
       "    }\n",
       "\n",
       "    .dataframe tbody tr th {\n",
       "        vertical-align: top;\n",
       "    }\n",
       "\n",
       "    .dataframe thead th {\n",
       "        text-align: right;\n",
       "    }\n",
       "</style>\n",
       "<table border=\"1\" class=\"dataframe\">\n",
       "  <thead>\n",
       "    <tr style=\"text-align: right;\">\n",
       "      <th></th>\n",
       "      <th>date_local</th>\n",
       "      <th>state_name</th>\n",
       "      <th>county_name</th>\n",
       "      <th>city_name</th>\n",
       "      <th>local_site_name</th>\n",
       "      <th>parameter_name</th>\n",
       "      <th>units_of_measure</th>\n",
       "      <th>aqi_log</th>\n",
       "    </tr>\n",
       "  </thead>\n",
       "  <tbody>\n",
       "    <tr>\n",
       "      <th>0</th>\n",
       "      <td>2018-01-01</td>\n",
       "      <td>Arizona</td>\n",
       "      <td>Maricopa</td>\n",
       "      <td>Buckeye</td>\n",
       "      <td>BUCKEYE</td>\n",
       "      <td>Carbon monoxide</td>\n",
       "      <td>Parts per million</td>\n",
       "      <td>2.079442</td>\n",
       "    </tr>\n",
       "    <tr>\n",
       "      <th>1</th>\n",
       "      <td>2018-01-01</td>\n",
       "      <td>Ohio</td>\n",
       "      <td>Belmont</td>\n",
       "      <td>Shadyside</td>\n",
       "      <td>Shadyside</td>\n",
       "      <td>Carbon monoxide</td>\n",
       "      <td>Parts per million</td>\n",
       "      <td>1.791759</td>\n",
       "    </tr>\n",
       "    <tr>\n",
       "      <th>2</th>\n",
       "      <td>2018-01-01</td>\n",
       "      <td>Wyoming</td>\n",
       "      <td>Teton</td>\n",
       "      <td>Not in a city</td>\n",
       "      <td>Yellowstone National Park - Old Faithful Snow ...</td>\n",
       "      <td>Carbon monoxide</td>\n",
       "      <td>Parts per million</td>\n",
       "      <td>1.098612</td>\n",
       "    </tr>\n",
       "    <tr>\n",
       "      <th>3</th>\n",
       "      <td>2018-01-01</td>\n",
       "      <td>Pennsylvania</td>\n",
       "      <td>Philadelphia</td>\n",
       "      <td>Philadelphia</td>\n",
       "      <td>North East Waste (NEW)</td>\n",
       "      <td>Carbon monoxide</td>\n",
       "      <td>Parts per million</td>\n",
       "      <td>1.386294</td>\n",
       "    </tr>\n",
       "    <tr>\n",
       "      <th>4</th>\n",
       "      <td>2018-01-01</td>\n",
       "      <td>Iowa</td>\n",
       "      <td>Polk</td>\n",
       "      <td>Des Moines</td>\n",
       "      <td>CARPENTER</td>\n",
       "      <td>Carbon monoxide</td>\n",
       "      <td>Parts per million</td>\n",
       "      <td>1.386294</td>\n",
       "    </tr>\n",
       "    <tr>\n",
       "      <th>5</th>\n",
       "      <td>2018-01-01</td>\n",
       "      <td>Hawaii</td>\n",
       "      <td>Honolulu</td>\n",
       "      <td>Not in a city</td>\n",
       "      <td>Kapolei</td>\n",
       "      <td>Carbon monoxide</td>\n",
       "      <td>Parts per million</td>\n",
       "      <td>2.708050</td>\n",
       "    </tr>\n",
       "    <tr>\n",
       "      <th>6</th>\n",
       "      <td>2018-01-01</td>\n",
       "      <td>Hawaii</td>\n",
       "      <td>Honolulu</td>\n",
       "      <td>Not in a city</td>\n",
       "      <td>Kapolei</td>\n",
       "      <td>Carbon monoxide</td>\n",
       "      <td>Parts per million</td>\n",
       "      <td>1.098612</td>\n",
       "    </tr>\n",
       "    <tr>\n",
       "      <th>7</th>\n",
       "      <td>2018-01-01</td>\n",
       "      <td>Pennsylvania</td>\n",
       "      <td>Erie</td>\n",
       "      <td>Erie</td>\n",
       "      <td>NaN</td>\n",
       "      <td>Carbon monoxide</td>\n",
       "      <td>Parts per million</td>\n",
       "      <td>1.098612</td>\n",
       "    </tr>\n",
       "    <tr>\n",
       "      <th>8</th>\n",
       "      <td>2018-01-01</td>\n",
       "      <td>Hawaii</td>\n",
       "      <td>Honolulu</td>\n",
       "      <td>Honolulu</td>\n",
       "      <td>Honolulu</td>\n",
       "      <td>Carbon monoxide</td>\n",
       "      <td>Parts per million</td>\n",
       "      <td>1.791759</td>\n",
       "    </tr>\n",
       "    <tr>\n",
       "      <th>9</th>\n",
       "      <td>2018-01-01</td>\n",
       "      <td>Colorado</td>\n",
       "      <td>Larimer</td>\n",
       "      <td>Fort Collins</td>\n",
       "      <td>Fort Collins - CSU - S. Mason</td>\n",
       "      <td>Carbon monoxide</td>\n",
       "      <td>Parts per million</td>\n",
       "      <td>1.945910</td>\n",
       "    </tr>\n",
       "  </tbody>\n",
       "</table>\n",
       "</div>"
      ],
      "text/plain": [
       "   date_local    state_name   county_name      city_name  \\\n",
       "0  2018-01-01       Arizona      Maricopa        Buckeye   \n",
       "1  2018-01-01          Ohio       Belmont      Shadyside   \n",
       "2  2018-01-01       Wyoming         Teton  Not in a city   \n",
       "3  2018-01-01  Pennsylvania  Philadelphia   Philadelphia   \n",
       "4  2018-01-01          Iowa          Polk     Des Moines   \n",
       "5  2018-01-01        Hawaii      Honolulu  Not in a city   \n",
       "6  2018-01-01        Hawaii      Honolulu  Not in a city   \n",
       "7  2018-01-01  Pennsylvania          Erie           Erie   \n",
       "8  2018-01-01        Hawaii      Honolulu       Honolulu   \n",
       "9  2018-01-01      Colorado       Larimer   Fort Collins   \n",
       "\n",
       "                                     local_site_name   parameter_name  \\\n",
       "0                                            BUCKEYE  Carbon monoxide   \n",
       "1                                          Shadyside  Carbon monoxide   \n",
       "2  Yellowstone National Park - Old Faithful Snow ...  Carbon monoxide   \n",
       "3                             North East Waste (NEW)  Carbon monoxide   \n",
       "4                                          CARPENTER  Carbon monoxide   \n",
       "5                                            Kapolei  Carbon monoxide   \n",
       "6                                            Kapolei  Carbon monoxide   \n",
       "7                                                NaN  Carbon monoxide   \n",
       "8                                           Honolulu  Carbon monoxide   \n",
       "9                      Fort Collins - CSU - S. Mason  Carbon monoxide   \n",
       "\n",
       "    units_of_measure   aqi_log  \n",
       "0  Parts per million  2.079442  \n",
       "1  Parts per million  1.791759  \n",
       "2  Parts per million  1.098612  \n",
       "3  Parts per million  1.386294  \n",
       "4  Parts per million  1.386294  \n",
       "5  Parts per million  2.708050  \n",
       "6  Parts per million  1.098612  \n",
       "7  Parts per million  1.098612  \n",
       "8  Parts per million  1.791759  \n",
       "9  Parts per million  1.945910  "
      ]
     },
     "execution_count": 3,
     "metadata": {},
     "output_type": "execute_result"
    }
   ],
   "source": [
    "data.head(10)"
   ]
  },
  {
   "cell_type": "markdown",
   "id": "50b1a9e1",
   "metadata": {},
   "source": [
    "The `aqi_log` column represents AQI readings that were transformed logarithmically to suit the objectives of this lab. "
   ]
  },
  {
   "cell_type": "code",
   "execution_count": 4,
   "id": "ddbdd4a0",
   "metadata": {},
   "outputs": [
    {
     "data": {
      "text/plain": [
       "(260, 8)"
      ]
     },
     "execution_count": 4,
     "metadata": {},
     "output_type": "execute_result"
    }
   ],
   "source": [
    "# Display the number of columns\n",
    "data.shape"
   ]
  },
  {
   "cell_type": "markdown",
   "id": "7d202953",
   "metadata": {},
   "source": [
    "Now, you want to find out whether `aqi_log` fits a specific type of probability distribution. Create a histogram to visualize the distribution of `aqi_log`. Then, based on its shape, visually determine if it resembles a particular distribution"
   ]
  },
  {
   "cell_type": "code",
   "execution_count": 5,
   "id": "95ffe797",
   "metadata": {},
   "outputs": [
    {
     "data": {
      "image/png": "[encoded data removed]",
      "text/plain": [
       "<Figure size 640x480 with 1 Axes>"
      ]
     },
     "metadata": {},
     "output_type": "display_data"
    }
   ],
   "source": [
    "# Create a histogram to visualize distribution of aqi_log.\n",
    "\n",
    "\n",
    "\n",
    "data[\"aqi_log\"].hist();"
   ]
  },
  {
   "cell_type": "markdown",
   "id": "09e099bf",
   "metadata": {},
   "source": [
    "**insight**"
   ]
  },
  {
   "cell_type": "markdown",
   "id": "e62c6921",
   "metadata": {},
   "source": [
    "There is a slight right skew, but it still appears to be a bell shape. This shape suggests that the distribution of this data should be approximately normal."
   ]
  },
  {
   "cell_type": "markdown",
   "id": "6f09588c",
   "metadata": {},
   "source": [
    "## **Step 3: Statistical tests**\n",
    "\n",
    "Use the empirical rule to observe the data, then test and verify that it is normally distributed."
   ]
  },
  {
   "cell_type": "markdown",
   "id": "e3a6a146",
   "metadata": {},
   "source": [
    " As you have learned, the empirical rule states that, for every normal distribution: \n",
    "- 68% of the data fall within 1 standard deviation of the mean\n",
    "- 95% of the data fall within 2 standard deviations of the mean\n",
    "- 99.7% of the data fall within 3 standard deviations of the mean\n"
   ]
  },
  {
   "cell_type": "markdown",
   "id": "a4a1c42f",
   "metadata": {},
   "source": [
    "First, define two variables to store the mean and standard deviation, respectively, for `aqi_log`. Creating these variables will help you easily access these measures as you continue with the calculations involved in applying the empirical rule."
   ]
  },
  {
   "cell_type": "code",
   "execution_count": 6,
   "id": "c1650695",
   "metadata": {},
   "outputs": [
    {
     "name": "stdout",
     "output_type": "stream",
     "text": [
      "1.7694151644253058\n"
     ]
    }
   ],
   "source": [
    "# Define variable for aqi_log mean.\n",
    "mean_aqi_log = data[\"aqi_log\"].mean()\n",
    "\n",
    "# Print out the mean.\n",
    "print(mean_aqi_log)"
   ]
  },
  {
   "cell_type": "code",
   "execution_count": 7,
   "id": "f1dfae9f",
   "metadata": {},
   "outputs": [
    {
     "name": "stdout",
     "output_type": "stream",
     "text": [
      "0.7162730130059963\n"
     ]
    }
   ],
   "source": [
    "# Check std deviation\n",
    "std_aqi_log = data[\"aqi_log\"].std()\n",
    "print(std_aqi_log)"
   ]
  },
  {
   "cell_type": "markdown",
   "id": "04b6bbff",
   "metadata": {},
   "source": [
    "Now, check the first part of the empirical rule: whether 68% of the aqi_log data falls within 1 standard deviation of the mean.\n",
    "To compute the actual percentage of the data that satisfies this criteria, `define the lower limit (for example, 1 standard deviation below the mean) and the upper limit (for example, 1 standard deviation above the mean).` This will enable you to create a range and confirm whether each value falls within it."
   ]
  },
  {
   "cell_type": "markdown",
   "id": "88cdbbe7",
   "metadata": {},
   "source": [
    "The lower limit here is $mean - 1 * std$.\n",
    "\n",
    "The upper limit here is $mean + 1 * std$."
   ]
  },
  {
   "cell_type": "code",
   "execution_count": 8,
   "id": "57139291",
   "metadata": {},
   "outputs": [
    {
     "name": "stdout",
     "output_type": "stream",
     "text": [
      "1.0531421514193093\n",
      "2.485688177431302\n"
     ]
    }
   ],
   "source": [
    "# Define variable for lower limit, 1 standard deviation below the mean\n",
    "lower_limit = mean_aqi_log - 1*std_aqi_log\n",
    "# Define variable for upper limit, 1 standard deviation above the mean\n",
    "upper_limit = mean_aqi_log + 1*std_aqi_log\n",
    "# Print upper limit and lower limit\n",
    "print(lower_limit)\n",
    "print(upper_limit)"
   ]
  },
  {
   "cell_type": "code",
   "execution_count": null,
   "id": "a814c13b",
   "metadata": {},
   "outputs": [],
   "source": [
    "# Display the actual percentage of data that falls within 1 standard deviation of the mean.\n",
    "\n",
    "### YOUR CODE HERE ### \n",
    "\n",
    "((data[\"aqi_log\"] >= lower_limit) & (data[\"aqi_log\"] <= upper_limit)).mean() * 100b"
   ]
  },
  {
   "cell_type": "markdown",
   "id": "653dabb6",
   "metadata": {},
   "source": [
    "The `mean()` function can be used to compute the proportion of the data that satisfies the specified conditions. \n",
    "\n",
    "Multiplying that proportion by $100$ can get you the percentage."
   ]
  },
  {
   "cell_type": "code",
   "execution_count": 11,
   "id": "61823171",
   "metadata": {},
   "outputs": [
    {
     "data": {
      "text/plain": [
       "78.46153846153847"
      ]
     },
     "execution_count": 11,
     "metadata": {},
     "output_type": "execute_result"
    }
   ],
   "source": [
    "((data[\"aqi_log\"] >= lower_limit) & (data[\"aqi_log\"] <= upper_limit)).mean()*100"
   ]
  },
  {
   "cell_type": "markdown",
   "id": "829b85fc",
   "metadata": {},
   "source": [
    "Now, check the first part of the empirical rule: whether 68% of the aqi_log data falls within 2 standard deviation of the mean. To compute the actual percentage of the data that satisfies this criteria, define the lower limit (for example, 2 standard deviation below the mean) and the upper limit (for example, 2 standard deviation above the mean). This will enable you to create a range and confirm whether each value falls within it."
   ]
  },
  {
   "cell_type": "code",
   "execution_count": 12,
   "id": "4accf8d5",
   "metadata": {},
   "outputs": [
    {
     "name": "stdout",
     "output_type": "stream",
     "text": [
      "0.3368691384133131 3.2019611904372987\n"
     ]
    }
   ],
   "source": [
    "# Define variable for lower limit, 2 standard deviations below the mean.\n",
    "\n",
    "\n",
    "\n",
    "\n",
    "lower_limit_2 = mean_aqi_log - 2 * std_aqi_log\n",
    "\n",
    "\n",
    "# Define variable for upper limit, 2 standard deviations below the mean.\n",
    "\n",
    "\n",
    "\n",
    "upper_limit_2 = mean_aqi_log + 2 * std_aqi_log\n",
    "\n",
    "\n",
    "# Display lower_limit, upper_limit.\n",
    "\n",
    "\n",
    "\n",
    "print(lower_limit_2, upper_limit_2)"
   ]
  },
  {
   "cell_type": "code",
   "execution_count": 13,
   "id": "501ca508",
   "metadata": {},
   "outputs": [
    {
     "data": {
      "text/plain": [
       "95.0"
      ]
     },
     "execution_count": 13,
     "metadata": {},
     "output_type": "execute_result"
    }
   ],
   "source": [
    "# Display the actual percentage of data that falls within 2 standard deviations of the mean.\n",
    "\n",
    "### YOUR CODE HERE ### \n",
    "\n",
    "((data[\"aqi_log\"] >= lower_limit_2) & (data[\"aqi_log\"] <= upper_limit_2)).mean() * 100"
   ]
  },
  {
   "cell_type": "markdown",
   "id": "39c00c4c",
   "metadata": {},
   "source": [
    "Now, check the first part of the empirical rule: whether 68% of the aqi_log data falls within 3 standard deviation of the mean. To compute the actual percentage of the data that satisfies this criteria, define the lower limit (for example, 3 standard deviation below the mean) and the upper limit (for example, 3 standard deviation above the mean). This will enable you to create a range and confirm whether each value falls within i"
   ]
  },
  {
   "cell_type": "code",
   "execution_count": 14,
   "id": "9f220c61",
   "metadata": {},
   "outputs": [
    {
     "name": "stdout",
     "output_type": "stream",
     "text": [
      "-0.3794038745926831 3.9182342034432946\n"
     ]
    }
   ],
   "source": [
    "# Define variable for lower limit, 3 standard deviations below the mean.\n",
    "\n",
    "### YOUR CODE HERE ###\n",
    "\n",
    "lower_limit_3 = mean_aqi_log - 3 * std_aqi_log\n",
    "\n",
    "\n",
    "# Define variable for upper limit, 3 standard deviations above the mean.\n",
    "\n",
    "### YOUR CODE HERE ###\n",
    "\n",
    "upper_limit_3 = mean_aqi_log + 3 * std_aqi_log\n",
    "\n",
    "\n",
    "# Display lower_limit, upper_limit.\n",
    "\n",
    "### YOUR CODE HERE ###\n",
    "\n",
    "print(lower_limit_3, upper_limit_3)"
   ]
  },
  {
   "cell_type": "code",
   "execution_count": 15,
   "id": "3e88b833",
   "metadata": {},
   "outputs": [
    {
     "data": {
      "text/plain": [
       "98.84615384615385"
      ]
     },
     "execution_count": 15,
     "metadata": {},
     "output_type": "execute_result"
    }
   ],
   "source": [
    "# Display the actual percentage of data that falls within 3 standard deviations of the mean.\n",
    "\n",
    "\n",
    "((data[\"aqi_log\"] >= lower_limit_3) & (data[\"aqi_log\"] <= upper_limit_3)).mean() * 100"
   ]
  },
  {
   "cell_type": "markdown",
   "id": "b24f18e9",
   "metadata": {},
   "source": [
    "## **Step 4: Results and evaluation** "
   ]
  },
  {
   "cell_type": "markdown",
   "id": "26d3ccd5",
   "metadata": {},
   "source": [
    "**Question:** What results did you attain by applying the empirical rule? \n",
    "- About 76.15% of the data falls within 1 standard deviation of the mean.\n",
    "- About 95.77% of the data falls within 2 standard deviation of the mean.\n",
    "- About 99.62% of the data falls within 3 standard deviations of the mean.\n",
    "\n",
    "The 95.77% is very close to 95%, and the 99.62% is very close to 99.7%. The 76.15% is not as close to 68%, but relatively close. Overall, from applying the empirical rule, the data appears to be not exactly normal, but could be considered approximately normal."
   ]
  },
  {
   "cell_type": "markdown",
   "id": "f4745c24",
   "metadata": {},
   "source": [
    "**Question:** How would you use z-score to find outliers?\n",
    "\n",
    "Since z-score indicates the relative position of values (for instance, z-score measures how many standard deviations below or above the mean a data point is), it can be used to detect outliers.\n",
    "Z-score could be used to identify values that lie more than 3 standard deviations below or above the mean. These values may be considered outliers.\n",
    "Compute the z-score for every aqi_log value. Then, add a column named z_score in the data to store those results."
   ]
  },
  {
   "cell_type": "code",
   "execution_count": 33,
   "id": "51336706",
   "metadata": {},
   "outputs": [],
   "source": [
    "# Compute the z-score for every aqi_log value, and add a column named z_score in the data to store those results.\n",
    "data1[\"z_score\"] = stats.zscore(data1[\"aqi_log\"])"
   ]
  },
  {
   "cell_type": "code",
   "execution_count": 34,
   "id": "069eee95",
   "metadata": {},
   "outputs": [
    {
     "data": {
      "text/html": [
       "<div>\n",
       "<style scoped>\n",
       "    .dataframe tbody tr th:only-of-type {\n",
       "        vertical-align: middle;\n",
       "    }\n",
       "\n",
       "    .dataframe tbody tr th {\n",
       "        vertical-align: top;\n",
       "    }\n",
       "\n",
       "    .dataframe thead th {\n",
       "        text-align: right;\n",
       "    }\n",
       "</style>\n",
       "<table border=\"1\" class=\"dataframe\">\n",
       "  <thead>\n",
       "    <tr style=\"text-align: right;\">\n",
       "      <th></th>\n",
       "      <th>date_local</th>\n",
       "      <th>state_name</th>\n",
       "      <th>county_name</th>\n",
       "      <th>city_name</th>\n",
       "      <th>local_site_name</th>\n",
       "      <th>parameter_name</th>\n",
       "      <th>units_of_measure</th>\n",
       "      <th>aqi_log</th>\n",
       "      <th>z_score</th>\n",
       "    </tr>\n",
       "  </thead>\n",
       "  <tbody>\n",
       "    <tr>\n",
       "      <th>0</th>\n",
       "      <td>2018-01-01</td>\n",
       "      <td>Arizona</td>\n",
       "      <td>Maricopa</td>\n",
       "      <td>Buckeye</td>\n",
       "      <td>BUCKEYE</td>\n",
       "      <td>Carbon monoxide</td>\n",
       "      <td>Parts per million</td>\n",
       "      <td>2.079442</td>\n",
       "      <td>0.429745</td>\n",
       "    </tr>\n",
       "    <tr>\n",
       "      <th>1</th>\n",
       "      <td>2018-01-01</td>\n",
       "      <td>Ohio</td>\n",
       "      <td>Belmont</td>\n",
       "      <td>Shadyside</td>\n",
       "      <td>Shadyside</td>\n",
       "      <td>Carbon monoxide</td>\n",
       "      <td>Parts per million</td>\n",
       "      <td>1.791759</td>\n",
       "      <td>0.028329</td>\n",
       "    </tr>\n",
       "    <tr>\n",
       "      <th>2</th>\n",
       "      <td>2018-01-01</td>\n",
       "      <td>Wyoming</td>\n",
       "      <td>Teton</td>\n",
       "      <td>Not in a city</td>\n",
       "      <td>Yellowstone National Park - Old Faithful Snow ...</td>\n",
       "      <td>Carbon monoxide</td>\n",
       "      <td>Parts per million</td>\n",
       "      <td>1.098612</td>\n",
       "      <td>-0.938853</td>\n",
       "    </tr>\n",
       "    <tr>\n",
       "      <th>3</th>\n",
       "      <td>2018-01-01</td>\n",
       "      <td>Pennsylvania</td>\n",
       "      <td>Philadelphia</td>\n",
       "      <td>Philadelphia</td>\n",
       "      <td>North East Waste (NEW)</td>\n",
       "      <td>Carbon monoxide</td>\n",
       "      <td>Parts per million</td>\n",
       "      <td>1.386294</td>\n",
       "      <td>-0.537436</td>\n",
       "    </tr>\n",
       "    <tr>\n",
       "      <th>4</th>\n",
       "      <td>2018-01-01</td>\n",
       "      <td>Iowa</td>\n",
       "      <td>Polk</td>\n",
       "      <td>Des Moines</td>\n",
       "      <td>CARPENTER</td>\n",
       "      <td>Carbon monoxide</td>\n",
       "      <td>Parts per million</td>\n",
       "      <td>1.386294</td>\n",
       "      <td>-0.537436</td>\n",
       "    </tr>\n",
       "    <tr>\n",
       "      <th>...</th>\n",
       "      <td>...</td>\n",
       "      <td>...</td>\n",
       "      <td>...</td>\n",
       "      <td>...</td>\n",
       "      <td>...</td>\n",
       "      <td>...</td>\n",
       "      <td>...</td>\n",
       "      <td>...</td>\n",
       "      <td>...</td>\n",
       "    </tr>\n",
       "    <tr>\n",
       "      <th>254</th>\n",
       "      <td>2018-01-01</td>\n",
       "      <td>Arizona</td>\n",
       "      <td>Pima</td>\n",
       "      <td>Tucson</td>\n",
       "      <td>CHERRY &amp; GLENN</td>\n",
       "      <td>Carbon monoxide</td>\n",
       "      <td>Parts per million</td>\n",
       "      <td>2.708050</td>\n",
       "      <td>1.306873</td>\n",
       "    </tr>\n",
       "    <tr>\n",
       "      <th>255</th>\n",
       "      <td>2018-01-01</td>\n",
       "      <td>District Of Columbia</td>\n",
       "      <td>District of Columbia</td>\n",
       "      <td>Washington</td>\n",
       "      <td>Near Road</td>\n",
       "      <td>Carbon monoxide</td>\n",
       "      <td>Parts per million</td>\n",
       "      <td>1.386294</td>\n",
       "      <td>-0.537436</td>\n",
       "    </tr>\n",
       "    <tr>\n",
       "      <th>256</th>\n",
       "      <td>2018-01-01</td>\n",
       "      <td>Wisconsin</td>\n",
       "      <td>Dodge</td>\n",
       "      <td>Kekoskee</td>\n",
       "      <td>HORICON WILDLIFE AREA</td>\n",
       "      <td>Carbon monoxide</td>\n",
       "      <td>Parts per million</td>\n",
       "      <td>1.098612</td>\n",
       "      <td>-0.938853</td>\n",
       "    </tr>\n",
       "    <tr>\n",
       "      <th>257</th>\n",
       "      <td>2018-01-01</td>\n",
       "      <td>Kentucky</td>\n",
       "      <td>Jefferson</td>\n",
       "      <td>Louisville</td>\n",
       "      <td>CANNONS LANE</td>\n",
       "      <td>Carbon monoxide</td>\n",
       "      <td>Parts per million</td>\n",
       "      <td>1.098612</td>\n",
       "      <td>-0.938853</td>\n",
       "    </tr>\n",
       "    <tr>\n",
       "      <th>259</th>\n",
       "      <td>2018-01-01</td>\n",
       "      <td>North Carolina</td>\n",
       "      <td>Wake</td>\n",
       "      <td>Not in a city</td>\n",
       "      <td>Triple Oak</td>\n",
       "      <td>Carbon monoxide</td>\n",
       "      <td>Parts per million</td>\n",
       "      <td>1.098612</td>\n",
       "      <td>-0.938853</td>\n",
       "    </tr>\n",
       "  </tbody>\n",
       "</table>\n",
       "<p>255 rows × 9 columns</p>\n",
       "</div>"
      ],
      "text/plain": [
       "     date_local            state_name           county_name      city_name  \\\n",
       "0    2018-01-01               Arizona              Maricopa        Buckeye   \n",
       "1    2018-01-01                  Ohio               Belmont      Shadyside   \n",
       "2    2018-01-01               Wyoming                 Teton  Not in a city   \n",
       "3    2018-01-01          Pennsylvania          Philadelphia   Philadelphia   \n",
       "4    2018-01-01                  Iowa                  Polk     Des Moines   \n",
       "..          ...                   ...                   ...            ...   \n",
       "254  2018-01-01               Arizona                  Pima         Tucson   \n",
       "255  2018-01-01  District Of Columbia  District of Columbia     Washington   \n",
       "256  2018-01-01             Wisconsin                 Dodge       Kekoskee   \n",
       "257  2018-01-01              Kentucky             Jefferson     Louisville   \n",
       "259  2018-01-01        North Carolina                  Wake  Not in a city   \n",
       "\n",
       "                                       local_site_name   parameter_name  \\\n",
       "0                                              BUCKEYE  Carbon monoxide   \n",
       "1                                            Shadyside  Carbon monoxide   \n",
       "2    Yellowstone National Park - Old Faithful Snow ...  Carbon monoxide   \n",
       "3                               North East Waste (NEW)  Carbon monoxide   \n",
       "4                                            CARPENTER  Carbon monoxide   \n",
       "..                                                 ...              ...   \n",
       "254                                     CHERRY & GLENN  Carbon monoxide   \n",
       "255                                          Near Road  Carbon monoxide   \n",
       "256                              HORICON WILDLIFE AREA  Carbon monoxide   \n",
       "257                                       CANNONS LANE  Carbon monoxide   \n",
       "259                                         Triple Oak  Carbon monoxide   \n",
       "\n",
       "      units_of_measure   aqi_log   z_score  \n",
       "0    Parts per million  2.079442  0.429745  \n",
       "1    Parts per million  1.791759  0.028329  \n",
       "2    Parts per million  1.098612 -0.938853  \n",
       "3    Parts per million  1.386294 -0.537436  \n",
       "4    Parts per million  1.386294 -0.537436  \n",
       "..                 ...       ...       ...  \n",
       "254  Parts per million  2.708050  1.306873  \n",
       "255  Parts per million  1.386294 -0.537436  \n",
       "256  Parts per million  1.098612 -0.938853  \n",
       "257  Parts per million  1.098612 -0.938853  \n",
       "259  Parts per million  1.098612 -0.938853  \n",
       "\n",
       "[255 rows x 9 columns]"
      ]
     },
     "execution_count": 34,
     "metadata": {},
     "output_type": "execute_result"
    }
   ],
   "source": [
    "data1"
   ]
  },
  {
   "cell_type": "code",
   "execution_count": 35,
   "id": "4933c545",
   "metadata": {},
   "outputs": [
    {
     "data": {
      "text/html": [
       "<div>\n",
       "<style scoped>\n",
       "    .dataframe tbody tr th:only-of-type {\n",
       "        vertical-align: middle;\n",
       "    }\n",
       "\n",
       "    .dataframe tbody tr th {\n",
       "        vertical-align: top;\n",
       "    }\n",
       "\n",
       "    .dataframe thead th {\n",
       "        text-align: right;\n",
       "    }\n",
       "</style>\n",
       "<table border=\"1\" class=\"dataframe\">\n",
       "  <thead>\n",
       "    <tr style=\"text-align: right;\">\n",
       "      <th></th>\n",
       "      <th>date_local</th>\n",
       "      <th>state_name</th>\n",
       "      <th>county_name</th>\n",
       "      <th>city_name</th>\n",
       "      <th>local_site_name</th>\n",
       "      <th>parameter_name</th>\n",
       "      <th>units_of_measure</th>\n",
       "      <th>aqi_log</th>\n",
       "      <th>z_score</th>\n",
       "    </tr>\n",
       "  </thead>\n",
       "  <tbody>\n",
       "    <tr>\n",
       "      <th>244</th>\n",
       "      <td>2018-01-01</td>\n",
       "      <td>Arizona</td>\n",
       "      <td>Maricopa</td>\n",
       "      <td>Phoenix</td>\n",
       "      <td>WEST PHOENIX</td>\n",
       "      <td>Carbon monoxide</td>\n",
       "      <td>Parts per million</td>\n",
       "      <td>3.931826</td>\n",
       "      <td>3.014466</td>\n",
       "    </tr>\n",
       "  </tbody>\n",
       "</table>\n",
       "</div>"
      ],
      "text/plain": [
       "     date_local state_name county_name city_name local_site_name  \\\n",
       "244  2018-01-01    Arizona    Maricopa   Phoenix    WEST PHOENIX   \n",
       "\n",
       "      parameter_name   units_of_measure   aqi_log   z_score  \n",
       "244  Carbon monoxide  Parts per million  3.931826  3.014466  "
      ]
     },
     "execution_count": 35,
     "metadata": {},
     "output_type": "execute_result"
    }
   ],
   "source": [
    "# Display data where `aqi_log` is above or below 3 standard deviations of the mean\n",
    "\n",
    "\n",
    "\n",
    "data1[(data1[\"z_score\"] > 3) | (data1[\"z_score\"] < -3)]"
   ]
  },
  {
   "cell_type": "markdown",
   "id": "4aa393d2",
   "metadata": {},
   "source": [
    "**Question:** What do you observe about potential outliers based on the calculations?\n",
    "\n",
    "The `aqi_log` for West Phoenix is slightly above 3 standard deviations of the mean. This means that the air quality at that site is worse than the rest of the sites represented in the data."
   ]
  },
  {
   "cell_type": "markdown",
   "id": "6c010abc",
   "metadata": {},
   "source": [
    "**Question:** Why is outlier detection an important part of this project? \n",
    "\n",
    "Detecting outliers is important because they can reveal two important things, depending on the context: First, they can identify measurements that were taken incorrectly. Second, they can highlight parts of the data that can be focused on to make improvements. \n",
    "\n",
    "For example, if the `aqi_log` for West Phoenix is considered an outlier, then that site can be studied further to determine what practices or changes might improve the air quality."
   ]
  },
  {
   "cell_type": "markdown",
   "id": "49d701ed",
   "metadata": {},
   "source": [
    "## **Considerations**\n",
    "\n",
    "**What are some key takeaways that you learned during this lab?**\n",
    "\n",
    "- Plotting the data using a histogram, then observing the shape, enables you to visually determine whether the data is normally distributed.\n",
    "- The empirical rule can be used to verify whether a distribution is normal.\n",
    "- The mean and standard deviation are important measures when applying the empirical rule to a distribution.\n",
    "- Z-score allows you to identify potenial outliers in the data.\n",
    "\n",
    "**What summary would you provide to stakeholders? Consider the distribution of the data and which sites would benefit from additional research.**\n",
    "- The distribution of the `aqi_log` data is approximately normal.\n",
    "- Using statistical methods, it was determined that the site at West Phoenix has worse air quality than the other sites. \n",
    "- Consider allocating more resources toward further examining this site in order to improve its air quality."
   ]
  }
 ],
 "metadata": {
  "kernelspec": {
   "display_name": "dss_mice",
   "language": "python",
   "name": "dss_mice"
  },
  "language_info": {
   "codemirror_mode": {
    "name": "ipython",
    "version": 3
   },
   "file_extension": ".py",
   "mimetype": "text/x-python",
   "name": "python",
   "nbconvert_exporter": "python",
   "pygments_lexer": "ipython3",
   "version": "3.10.9"
  }
 },
 "nbformat": 4,
 "nbformat_minor": 5
}
